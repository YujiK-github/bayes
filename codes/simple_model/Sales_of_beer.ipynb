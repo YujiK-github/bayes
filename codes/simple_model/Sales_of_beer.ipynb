{
 "cells": [
  {
   "attachments": {},
   "cell_type": "markdown",
   "metadata": {},
   "source": [
    "# ビールの売り上げのモデル化\n",
    "ref: \n",
    "* RとStanではじめるベイズ統計モデリングによるデータ分析入門(馬場)  \n",
    "* Pythonではじめるベイズ機械学習入門(木田, 森, 須山)  \n",
    "  \n",
    "ビールの売り上げを記録したデータが100個あり、売り上げデータが正規分布に従うと仮定してモデル化を行う。  \n",
    "ビールの売り上げの平均値を$\\mu$とし、売り上げのばらつきを$\\sigma^2$とすると  \n",
    "売り上げが$sales$万円である確率密度は以下のように表される。  \n",
    "$sales \\sim Normal(\\mu, \\sigma^2)$"
   ]
  },
  {
   "cell_type": "code",
   "execution_count": 21,
   "metadata": {},
   "outputs": [],
   "source": [
    "import pymc as pm\n",
    "import arviz as az\n",
    "import pandas as pd"
   ]
  },
  {
   "cell_type": "code",
   "execution_count": 22,
   "metadata": {},
   "outputs": [
    {
     "data": {
      "text/html": [
       "<div>\n",
       "<style scoped>\n",
       "    .dataframe tbody tr th:only-of-type {\n",
       "        vertical-align: middle;\n",
       "    }\n",
       "\n",
       "    .dataframe tbody tr th {\n",
       "        vertical-align: top;\n",
       "    }\n",
       "\n",
       "    .dataframe thead th {\n",
       "        text-align: right;\n",
       "    }\n",
       "</style>\n",
       "<table border=\"1\" class=\"dataframe\">\n",
       "  <thead>\n",
       "    <tr style=\"text-align: right;\">\n",
       "      <th></th>\n",
       "      <th>sales</th>\n",
       "    </tr>\n",
       "  </thead>\n",
       "  <tbody>\n",
       "    <tr>\n",
       "      <th>0</th>\n",
       "      <td>87.47</td>\n",
       "    </tr>\n",
       "    <tr>\n",
       "      <th>1</th>\n",
       "      <td>103.67</td>\n",
       "    </tr>\n",
       "    <tr>\n",
       "      <th>2</th>\n",
       "      <td>83.29</td>\n",
       "    </tr>\n",
       "    <tr>\n",
       "      <th>3</th>\n",
       "      <td>131.91</td>\n",
       "    </tr>\n",
       "    <tr>\n",
       "      <th>4</th>\n",
       "      <td>106.59</td>\n",
       "    </tr>\n",
       "  </tbody>\n",
       "</table>\n",
       "</div>"
      ],
      "text/plain": [
       "    sales\n",
       "0   87.47\n",
       "1  103.67\n",
       "2   83.29\n",
       "3  131.91\n",
       "4  106.59"
      ]
     },
     "execution_count": 22,
     "metadata": {},
     "output_type": "execute_result"
    }
   ],
   "source": [
    "df = pd.read_csv(\"G:/マイドライブ/bayes/data/book-r-stan-bayesian-model-intro-master/book-data/2-4-1-beer-sales-1.csv\")\n",
    "df.head()"
   ]
  },
  {
   "cell_type": "code",
   "execution_count": 23,
   "metadata": {},
   "outputs": [],
   "source": [
    "# モデルの定義\n",
    "basic_model = pm.Model()\n",
    "\n",
    "with basic_model:\n",
    "    # 推論対象とするパラメータの事前分布\n",
    "    mu_ = pm.Normal(name=\"mu\", \n",
    "                    mu=0, \n",
    "                    sigma=1000000)\n",
    "    sigma = pm.HalfNormal(name=\"sigma\", \n",
    "                          sigma=1000000)\n",
    "    \n",
    "    # 尤度関数\n",
    "    sales = pm.Normal(name=\"sales\", \n",
    "                      mu=mu_, \n",
    "                      sigma=sigma, \n",
    "                      shape=len(df[\"sales\"].values),\n",
    "                      observed=df[\"sales\"].values)"
   ]
  },
  {
   "cell_type": "code",
   "execution_count": 24,
   "metadata": {},
   "outputs": [
    {
     "name": "stderr",
     "output_type": "stream",
     "text": [
      "Multiprocess sampling (3 chains in 4 jobs)\n",
      "NUTS: [mu, sigma]\n"
     ]
    },
    {
     "ename": "IndexError",
     "evalue": "tuple index out of range",
     "output_type": "error",
     "traceback": [
      "\u001b[1;31m---------------------------------------------------------------------------\u001b[0m",
      "\u001b[1;31mIndexError\u001b[0m                                Traceback (most recent call last)",
      "Cell \u001b[1;32mIn[24], line 2\u001b[0m\n\u001b[0;32m      1\u001b[0m \u001b[39mwith\u001b[39;00m basic_model:\n\u001b[1;32m----> 2\u001b[0m     trace \u001b[39m=\u001b[39m pm\u001b[39m.\u001b[39msample(\n\u001b[0;32m      3\u001b[0m         draws\u001b[39m=\u001b[39m\u001b[39m6000\u001b[39m,                \u001b[39m# サンプルサイズ\u001b[39;00m\n\u001b[0;32m      4\u001b[0m         tune\u001b[39m=\u001b[39m\u001b[39m2000\u001b[39m,                 \u001b[39m# バーンイン期間\u001b[39;00m\n\u001b[0;32m      5\u001b[0m         step\u001b[39m=\u001b[39mpm\u001b[39m.\u001b[39mNUTS(),            \u001b[39m# アルゴリズム\u001b[39;00m\n\u001b[0;32m      6\u001b[0m         chains\u001b[39m=\u001b[39m\u001b[39m3\u001b[39m,\n\u001b[0;32m      7\u001b[0m         random_seed\u001b[39m=\u001b[39m\u001b[39m1\u001b[39m,\n\u001b[0;32m      8\u001b[0m         return_inferencedata\u001b[39m=\u001b[39m\u001b[39mTrue\u001b[39;00m  \u001b[39m# arvizで返す\u001b[39;00m\n\u001b[0;32m      9\u001b[0m     )\n",
      "File \u001b[1;32mc:\\Users\\Komiyama Yuji\\anaconda3\\envs\\pymc_env\\Lib\\site-packages\\pymc\\sampling\\mcmc.py:677\u001b[0m, in \u001b[0;36msample\u001b[1;34m(draws, tune, chains, cores, random_seed, progressbar, step, nuts_sampler, initvals, init, jitter_max_retries, n_init, trace, discard_tuned_samples, compute_convergence_checks, keep_warning_stat, return_inferencedata, idata_kwargs, nuts_sampler_kwargs, callback, mp_ctx, model, **kwargs)\u001b[0m\n\u001b[0;32m    675\u001b[0m _print_step_hierarchy(step)\n\u001b[0;32m    676\u001b[0m \u001b[39mtry\u001b[39;00m:\n\u001b[1;32m--> 677\u001b[0m     _mp_sample(\u001b[39m*\u001b[39m\u001b[39m*\u001b[39msample_args, \u001b[39m*\u001b[39m\u001b[39m*\u001b[39mparallel_args)\n\u001b[0;32m    678\u001b[0m \u001b[39mexcept\u001b[39;00m pickle\u001b[39m.\u001b[39mPickleError:\n\u001b[0;32m    679\u001b[0m     _log\u001b[39m.\u001b[39mwarning(\u001b[39m\"\u001b[39m\u001b[39mCould not pickle model, sampling singlethreaded.\u001b[39m\u001b[39m\"\u001b[39m)\n",
      "File \u001b[1;32mc:\\Users\\Komiyama Yuji\\anaconda3\\envs\\pymc_env\\Lib\\site-packages\\pymc\\sampling\\mcmc.py:1052\u001b[0m, in \u001b[0;36m_mp_sample\u001b[1;34m(draws, tune, step, chains, cores, random_seed, start, progressbar, traces, model, callback, mp_ctx, **kwargs)\u001b[0m\n\u001b[0;32m   1049\u001b[0m \u001b[39m# We did draws += tune in pm.sample\u001b[39;00m\n\u001b[0;32m   1050\u001b[0m draws \u001b[39m-\u001b[39m\u001b[39m=\u001b[39m tune\n\u001b[1;32m-> 1052\u001b[0m sampler \u001b[39m=\u001b[39m ps\u001b[39m.\u001b[39mParallelSampler(\n\u001b[0;32m   1053\u001b[0m     draws\u001b[39m=\u001b[39mdraws,\n\u001b[0;32m   1054\u001b[0m     tune\u001b[39m=\u001b[39mtune,\n\u001b[0;32m   1055\u001b[0m     chains\u001b[39m=\u001b[39mchains,\n\u001b[0;32m   1056\u001b[0m     cores\u001b[39m=\u001b[39mcores,\n\u001b[0;32m   1057\u001b[0m     seeds\u001b[39m=\u001b[39mrandom_seed,\n\u001b[0;32m   1058\u001b[0m     start_points\u001b[39m=\u001b[39mstart,\n\u001b[0;32m   1059\u001b[0m     step_method\u001b[39m=\u001b[39mstep,\n\u001b[0;32m   1060\u001b[0m     progressbar\u001b[39m=\u001b[39mprogressbar,\n\u001b[0;32m   1061\u001b[0m     mp_ctx\u001b[39m=\u001b[39mmp_ctx,\n\u001b[0;32m   1062\u001b[0m )\n\u001b[0;32m   1063\u001b[0m \u001b[39mtry\u001b[39;00m:\n\u001b[0;32m   1064\u001b[0m     \u001b[39mtry\u001b[39;00m:\n",
      "File \u001b[1;32mc:\\Users\\Komiyama Yuji\\anaconda3\\envs\\pymc_env\\Lib\\site-packages\\pymc\\sampling\\parallel.py:400\u001b[0m, in \u001b[0;36mParallelSampler.__init__\u001b[1;34m(self, draws, tune, chains, cores, seeds, start_points, step_method, progressbar, mp_ctx)\u001b[0m\n\u001b[0;32m    398\u001b[0m step_method_pickled \u001b[39m=\u001b[39m \u001b[39mNone\u001b[39;00m\n\u001b[0;32m    399\u001b[0m \u001b[39mif\u001b[39;00m mp_ctx\u001b[39m.\u001b[39mget_start_method() \u001b[39m!=\u001b[39m \u001b[39m\"\u001b[39m\u001b[39mfork\u001b[39m\u001b[39m\"\u001b[39m:\n\u001b[1;32m--> 400\u001b[0m     step_method_pickled \u001b[39m=\u001b[39m cloudpickle\u001b[39m.\u001b[39mdumps(step_method, protocol\u001b[39m=\u001b[39m\u001b[39m-\u001b[39m\u001b[39m1\u001b[39m)\n\u001b[0;32m    402\u001b[0m \u001b[39mself\u001b[39m\u001b[39m.\u001b[39m_samplers \u001b[39m=\u001b[39m [\n\u001b[0;32m    403\u001b[0m     ProcessAdapter(\n\u001b[0;32m    404\u001b[0m         draws,\n\u001b[1;32m   (...)\u001b[0m\n\u001b[0;32m    413\u001b[0m     \u001b[39mfor\u001b[39;00m chain, seed, start \u001b[39min\u001b[39;00m \u001b[39mzip\u001b[39m(\u001b[39mrange\u001b[39m(chains), seeds, start_points)\n\u001b[0;32m    414\u001b[0m ]\n\u001b[0;32m    416\u001b[0m \u001b[39mself\u001b[39m\u001b[39m.\u001b[39m_inactive \u001b[39m=\u001b[39m \u001b[39mself\u001b[39m\u001b[39m.\u001b[39m_samplers\u001b[39m.\u001b[39mcopy()\n",
      "File \u001b[1;32mc:\\Users\\Komiyama Yuji\\anaconda3\\envs\\pymc_env\\Lib\\site-packages\\cloudpickle\\cloudpickle_fast.py:73\u001b[0m, in \u001b[0;36mdumps\u001b[1;34m(obj, protocol, buffer_callback)\u001b[0m\n\u001b[0;32m     69\u001b[0m \u001b[39mwith\u001b[39;00m io\u001b[39m.\u001b[39mBytesIO() \u001b[39mas\u001b[39;00m file:\n\u001b[0;32m     70\u001b[0m     cp \u001b[39m=\u001b[39m CloudPickler(\n\u001b[0;32m     71\u001b[0m         file, protocol\u001b[39m=\u001b[39mprotocol, buffer_callback\u001b[39m=\u001b[39mbuffer_callback\n\u001b[0;32m     72\u001b[0m     )\n\u001b[1;32m---> 73\u001b[0m     cp\u001b[39m.\u001b[39mdump(obj)\n\u001b[0;32m     74\u001b[0m     \u001b[39mreturn\u001b[39;00m file\u001b[39m.\u001b[39mgetvalue()\n",
      "File \u001b[1;32mc:\\Users\\Komiyama Yuji\\anaconda3\\envs\\pymc_env\\Lib\\site-packages\\cloudpickle\\cloudpickle_fast.py:602\u001b[0m, in \u001b[0;36mCloudPickler.dump\u001b[1;34m(self, obj)\u001b[0m\n\u001b[0;32m    600\u001b[0m \u001b[39mdef\u001b[39;00m \u001b[39mdump\u001b[39m(\u001b[39mself\u001b[39m, obj):\n\u001b[0;32m    601\u001b[0m     \u001b[39mtry\u001b[39;00m:\n\u001b[1;32m--> 602\u001b[0m         \u001b[39mreturn\u001b[39;00m Pickler\u001b[39m.\u001b[39mdump(\u001b[39mself\u001b[39m, obj)\n\u001b[0;32m    603\u001b[0m     \u001b[39mexcept\u001b[39;00m \u001b[39mRuntimeError\u001b[39;00m \u001b[39mas\u001b[39;00m e:\n\u001b[0;32m    604\u001b[0m         \u001b[39mif\u001b[39;00m \u001b[39m\"\u001b[39m\u001b[39mrecursion\u001b[39m\u001b[39m\"\u001b[39m \u001b[39min\u001b[39;00m e\u001b[39m.\u001b[39margs[\u001b[39m0\u001b[39m]:\n",
      "File \u001b[1;32mc:\\Users\\Komiyama Yuji\\anaconda3\\envs\\pymc_env\\Lib\\site-packages\\cloudpickle\\cloudpickle_fast.py:692\u001b[0m, in \u001b[0;36mCloudPickler.reducer_override\u001b[1;34m(self, obj)\u001b[0m\n\u001b[0;32m    690\u001b[0m     \u001b[39mreturn\u001b[39;00m _class_reduce(obj)\n\u001b[0;32m    691\u001b[0m \u001b[39melif\u001b[39;00m \u001b[39misinstance\u001b[39m(obj, types\u001b[39m.\u001b[39mFunctionType):\n\u001b[1;32m--> 692\u001b[0m     \u001b[39mreturn\u001b[39;00m \u001b[39mself\u001b[39m\u001b[39m.\u001b[39m_function_reduce(obj)\n\u001b[0;32m    693\u001b[0m \u001b[39melse\u001b[39;00m:\n\u001b[0;32m    694\u001b[0m     \u001b[39m# fallback to save_global, including the Pickler's\u001b[39;00m\n\u001b[0;32m    695\u001b[0m     \u001b[39m# dispatch_table\u001b[39;00m\n\u001b[0;32m    696\u001b[0m     \u001b[39mreturn\u001b[39;00m \u001b[39mNotImplemented\u001b[39m\n",
      "File \u001b[1;32mc:\\Users\\Komiyama Yuji\\anaconda3\\envs\\pymc_env\\Lib\\site-packages\\cloudpickle\\cloudpickle_fast.py:565\u001b[0m, in \u001b[0;36mCloudPickler._function_reduce\u001b[1;34m(self, obj)\u001b[0m\n\u001b[0;32m    563\u001b[0m     \u001b[39mreturn\u001b[39;00m \u001b[39mNotImplemented\u001b[39m\n\u001b[0;32m    564\u001b[0m \u001b[39melse\u001b[39;00m:\n\u001b[1;32m--> 565\u001b[0m     \u001b[39mreturn\u001b[39;00m \u001b[39mself\u001b[39m\u001b[39m.\u001b[39m_dynamic_function_reduce(obj)\n",
      "File \u001b[1;32mc:\\Users\\Komiyama Yuji\\anaconda3\\envs\\pymc_env\\Lib\\site-packages\\cloudpickle\\cloudpickle_fast.py:546\u001b[0m, in \u001b[0;36mCloudPickler._dynamic_function_reduce\u001b[1;34m(self, func)\u001b[0m\n\u001b[0;32m    544\u001b[0m \u001b[39m\"\"\"Reduce a function that is not pickleable via attribute lookup.\"\"\"\u001b[39;00m\n\u001b[0;32m    545\u001b[0m newargs \u001b[39m=\u001b[39m \u001b[39mself\u001b[39m\u001b[39m.\u001b[39m_function_getnewargs(func)\n\u001b[1;32m--> 546\u001b[0m state \u001b[39m=\u001b[39m _function_getstate(func)\n\u001b[0;32m    547\u001b[0m \u001b[39mreturn\u001b[39;00m (types\u001b[39m.\u001b[39mFunctionType, newargs, state, \u001b[39mNone\u001b[39;00m, \u001b[39mNone\u001b[39;00m,\n\u001b[0;32m    548\u001b[0m         _function_setstate)\n",
      "File \u001b[1;32mc:\\Users\\Komiyama Yuji\\anaconda3\\envs\\pymc_env\\Lib\\site-packages\\cloudpickle\\cloudpickle_fast.py:157\u001b[0m, in \u001b[0;36m_function_getstate\u001b[1;34m(func)\u001b[0m\n\u001b[0;32m    139\u001b[0m \u001b[39mdef\u001b[39;00m \u001b[39m_function_getstate\u001b[39m(func):\n\u001b[0;32m    140\u001b[0m     \u001b[39m# - Put func's dynamic attributes (stored in func.__dict__) in state. These\u001b[39;00m\n\u001b[0;32m    141\u001b[0m     \u001b[39m#   attributes will be restored at unpickling time using\u001b[39;00m\n\u001b[1;32m   (...)\u001b[0m\n\u001b[0;32m    144\u001b[0m     \u001b[39m#   unpickling time by iterating over slotstate and calling setattr(func,\u001b[39;00m\n\u001b[0;32m    145\u001b[0m     \u001b[39m#   slotname, slotvalue)\u001b[39;00m\n\u001b[0;32m    146\u001b[0m     slotstate \u001b[39m=\u001b[39m {\n\u001b[0;32m    147\u001b[0m         \u001b[39m\"\u001b[39m\u001b[39m__name__\u001b[39m\u001b[39m\"\u001b[39m: func\u001b[39m.\u001b[39m\u001b[39m__name__\u001b[39m,\n\u001b[0;32m    148\u001b[0m         \u001b[39m\"\u001b[39m\u001b[39m__qualname__\u001b[39m\u001b[39m\"\u001b[39m: func\u001b[39m.\u001b[39m\u001b[39m__qualname__\u001b[39m,\n\u001b[1;32m   (...)\u001b[0m\n\u001b[0;32m    154\u001b[0m         \u001b[39m\"\u001b[39m\u001b[39m__closure__\u001b[39m\u001b[39m\"\u001b[39m: func\u001b[39m.\u001b[39m\u001b[39m__closure__\u001b[39m,\n\u001b[0;32m    155\u001b[0m     }\n\u001b[1;32m--> 157\u001b[0m     f_globals_ref \u001b[39m=\u001b[39m _extract_code_globals(func\u001b[39m.\u001b[39m\u001b[39m__code__\u001b[39m)\n\u001b[0;32m    158\u001b[0m     f_globals \u001b[39m=\u001b[39m {k: func\u001b[39m.\u001b[39m\u001b[39m__globals__\u001b[39m[k] \u001b[39mfor\u001b[39;00m k \u001b[39min\u001b[39;00m f_globals_ref \u001b[39mif\u001b[39;00m k \u001b[39min\u001b[39;00m\n\u001b[0;32m    159\u001b[0m                  func\u001b[39m.\u001b[39m\u001b[39m__globals__\u001b[39m}\n\u001b[0;32m    161\u001b[0m     closure_values \u001b[39m=\u001b[39m (\n\u001b[0;32m    162\u001b[0m         \u001b[39mlist\u001b[39m(\u001b[39mmap\u001b[39m(_get_cell_contents, func\u001b[39m.\u001b[39m\u001b[39m__closure__\u001b[39m))\n\u001b[0;32m    163\u001b[0m         \u001b[39mif\u001b[39;00m func\u001b[39m.\u001b[39m\u001b[39m__closure__\u001b[39m \u001b[39mis\u001b[39;00m \u001b[39mnot\u001b[39;00m \u001b[39mNone\u001b[39;00m \u001b[39melse\u001b[39;00m ()\n\u001b[0;32m    164\u001b[0m     )\n",
      "File \u001b[1;32mc:\\Users\\Komiyama Yuji\\anaconda3\\envs\\pymc_env\\Lib\\site-packages\\cloudpickle\\cloudpickle.py:334\u001b[0m, in \u001b[0;36m_extract_code_globals\u001b[1;34m(co)\u001b[0m\n\u001b[0;32m    330\u001b[0m names \u001b[39m=\u001b[39m co\u001b[39m.\u001b[39mco_names\n\u001b[0;32m    331\u001b[0m \u001b[39m# We use a dict with None values instead of a set to get a\u001b[39;00m\n\u001b[0;32m    332\u001b[0m \u001b[39m# deterministic order (assuming Python 3.6+) and avoid introducing\u001b[39;00m\n\u001b[0;32m    333\u001b[0m \u001b[39m# non-deterministic pickle bytes as a results.\u001b[39;00m\n\u001b[1;32m--> 334\u001b[0m out_names \u001b[39m=\u001b[39m {names[oparg]: \u001b[39mNone\u001b[39;00m \u001b[39mfor\u001b[39;00m _, oparg \u001b[39min\u001b[39;00m _walk_global_ops(co)}\n\u001b[0;32m    336\u001b[0m \u001b[39m# Declaring a function inside another one using the \"def ...\"\u001b[39;00m\n\u001b[0;32m    337\u001b[0m \u001b[39m# syntax generates a constant code object corresponding to the one\u001b[39;00m\n\u001b[0;32m    338\u001b[0m \u001b[39m# of the nested function's As the nested function may itself need\u001b[39;00m\n\u001b[0;32m    339\u001b[0m \u001b[39m# global variables, we need to introspect its code, extract its\u001b[39;00m\n\u001b[0;32m    340\u001b[0m \u001b[39m# globals, (look for code object in it's co_consts attribute..) and\u001b[39;00m\n\u001b[0;32m    341\u001b[0m \u001b[39m# add the result to code_globals\u001b[39;00m\n\u001b[0;32m    342\u001b[0m \u001b[39mif\u001b[39;00m co\u001b[39m.\u001b[39mco_consts:\n",
      "File \u001b[1;32mc:\\Users\\Komiyama Yuji\\anaconda3\\envs\\pymc_env\\Lib\\site-packages\\cloudpickle\\cloudpickle.py:334\u001b[0m, in \u001b[0;36m<dictcomp>\u001b[1;34m(.0)\u001b[0m\n\u001b[0;32m    330\u001b[0m names \u001b[39m=\u001b[39m co\u001b[39m.\u001b[39mco_names\n\u001b[0;32m    331\u001b[0m \u001b[39m# We use a dict with None values instead of a set to get a\u001b[39;00m\n\u001b[0;32m    332\u001b[0m \u001b[39m# deterministic order (assuming Python 3.6+) and avoid introducing\u001b[39;00m\n\u001b[0;32m    333\u001b[0m \u001b[39m# non-deterministic pickle bytes as a results.\u001b[39;00m\n\u001b[1;32m--> 334\u001b[0m out_names \u001b[39m=\u001b[39m {names[oparg]: \u001b[39mNone\u001b[39;00m \u001b[39mfor\u001b[39;00m _, oparg \u001b[39min\u001b[39;00m _walk_global_ops(co)}\n\u001b[0;32m    336\u001b[0m \u001b[39m# Declaring a function inside another one using the \"def ...\"\u001b[39;00m\n\u001b[0;32m    337\u001b[0m \u001b[39m# syntax generates a constant code object corresponding to the one\u001b[39;00m\n\u001b[0;32m    338\u001b[0m \u001b[39m# of the nested function's As the nested function may itself need\u001b[39;00m\n\u001b[0;32m    339\u001b[0m \u001b[39m# global variables, we need to introspect its code, extract its\u001b[39;00m\n\u001b[0;32m    340\u001b[0m \u001b[39m# globals, (look for code object in it's co_consts attribute..) and\u001b[39;00m\n\u001b[0;32m    341\u001b[0m \u001b[39m# add the result to code_globals\u001b[39;00m\n\u001b[0;32m    342\u001b[0m \u001b[39mif\u001b[39;00m co\u001b[39m.\u001b[39mco_consts:\n",
      "\u001b[1;31mIndexError\u001b[0m: tuple index out of range"
     ]
    }
   ],
   "source": [
    "with basic_model:\n",
    "    trace = pm.sample(\n",
    "        draws=6000,                # サンプルサイズ\n",
    "        tune=2000,                 # バーンイン期間\n",
    "        step=pm.NUTS(),            # アルゴリズム\n",
    "        chains=3,\n",
    "        random_seed=1,\n",
    "        return_inferencedata=True  # arvizで返す\n",
    "    )"
   ]
  },
  {
   "cell_type": "code",
   "execution_count": 25,
   "metadata": {},
   "outputs": [
    {
     "ename": "NameError",
     "evalue": "name 'trace' is not defined",
     "output_type": "error",
     "traceback": [
      "\u001b[1;31m---------------------------------------------------------------------------\u001b[0m",
      "\u001b[1;31mNameError\u001b[0m                                 Traceback (most recent call last)",
      "Cell \u001b[1;32mIn[25], line 1\u001b[0m\n\u001b[1;32m----> 1\u001b[0m trace\n",
      "\u001b[1;31mNameError\u001b[0m: name 'trace' is not defined"
     ]
    }
   ],
   "source": [
    "trace"
   ]
  },
  {
   "cell_type": "code",
   "execution_count": 26,
   "metadata": {},
   "outputs": [
    {
     "ename": "NameError",
     "evalue": "name 'trace' is not defined",
     "output_type": "error",
     "traceback": [
      "\u001b[1;31m---------------------------------------------------------------------------\u001b[0m",
      "\u001b[1;31mNameError\u001b[0m                                 Traceback (most recent call last)",
      "Cell \u001b[1;32mIn[26], line 1\u001b[0m\n\u001b[1;32m----> 1\u001b[0m az\u001b[39m.\u001b[39mplot_trace(trace)\n",
      "\u001b[1;31mNameError\u001b[0m: name 'trace' is not defined"
     ]
    }
   ],
   "source": [
    "az.plot_trace(trace)"
   ]
  },
  {
   "cell_type": "code",
   "execution_count": 27,
   "metadata": {},
   "outputs": [
    {
     "ename": "NameError",
     "evalue": "name 'trace' is not defined",
     "output_type": "error",
     "traceback": [
      "\u001b[1;31m---------------------------------------------------------------------------\u001b[0m",
      "\u001b[1;31mNameError\u001b[0m                                 Traceback (most recent call last)",
      "Cell \u001b[1;32mIn[27], line 1\u001b[0m\n\u001b[1;32m----> 1\u001b[0m az\u001b[39m.\u001b[39msummary(trace)\n",
      "\u001b[1;31mNameError\u001b[0m: name 'trace' is not defined"
     ]
    }
   ],
   "source": [
    "az.summary(trace)"
   ]
  },
  {
   "cell_type": "code",
   "execution_count": 28,
   "metadata": {},
   "outputs": [
    {
     "name": "stderr",
     "output_type": "stream",
     "text": [
      "Auto-assigning NUTS sampler...\n",
      "Initializing NUTS using jitter+adapt_diag...\n",
      "Multiprocess sampling (4 chains in 4 jobs)\n",
      "NUTS: [p]\n"
     ]
    },
    {
     "ename": "IndexError",
     "evalue": "tuple index out of range",
     "output_type": "error",
     "traceback": [
      "\u001b[1;31m---------------------------------------------------------------------------\u001b[0m",
      "\u001b[1;31mIndexError\u001b[0m                                Traceback (most recent call last)",
      "Cell \u001b[1;32mIn[28], line 9\u001b[0m\n\u001b[0;32m      7\u001b[0m p \u001b[39m=\u001b[39m pm\u001b[39m.\u001b[39mBeta(\u001b[39m\"\u001b[39m\u001b[39mp\u001b[39m\u001b[39m\"\u001b[39m, alpha\u001b[39m=\u001b[39m\u001b[39m1\u001b[39m, beta\u001b[39m=\u001b[39m\u001b[39m1\u001b[39m)\n\u001b[0;32m      8\u001b[0m y \u001b[39m=\u001b[39m pm\u001b[39m.\u001b[39mBinomial(\u001b[39m\"\u001b[39m\u001b[39my\u001b[39m\u001b[39m\"\u001b[39m, n\u001b[39m=\u001b[39m\u001b[39m10\u001b[39m, p\u001b[39m=\u001b[39mp, observed\u001b[39m=\u001b[39m[\u001b[39m1\u001b[39m,\u001b[39m1\u001b[39m,\u001b[39m0\u001b[39m,\u001b[39m0\u001b[39m])\n\u001b[1;32m----> 9\u001b[0m idata \u001b[39m=\u001b[39m pm\u001b[39m.\u001b[39msample()\n",
      "File \u001b[1;32mc:\\Users\\Komiyama Yuji\\anaconda3\\envs\\pymc_env\\Lib\\site-packages\\pymc\\sampling\\mcmc.py:677\u001b[0m, in \u001b[0;36msample\u001b[1;34m(draws, tune, chains, cores, random_seed, progressbar, step, nuts_sampler, initvals, init, jitter_max_retries, n_init, trace, discard_tuned_samples, compute_convergence_checks, keep_warning_stat, return_inferencedata, idata_kwargs, nuts_sampler_kwargs, callback, mp_ctx, model, **kwargs)\u001b[0m\n\u001b[0;32m    675\u001b[0m _print_step_hierarchy(step)\n\u001b[0;32m    676\u001b[0m \u001b[39mtry\u001b[39;00m:\n\u001b[1;32m--> 677\u001b[0m     _mp_sample(\u001b[39m*\u001b[39m\u001b[39m*\u001b[39msample_args, \u001b[39m*\u001b[39m\u001b[39m*\u001b[39mparallel_args)\n\u001b[0;32m    678\u001b[0m \u001b[39mexcept\u001b[39;00m pickle\u001b[39m.\u001b[39mPickleError:\n\u001b[0;32m    679\u001b[0m     _log\u001b[39m.\u001b[39mwarning(\u001b[39m\"\u001b[39m\u001b[39mCould not pickle model, sampling singlethreaded.\u001b[39m\u001b[39m\"\u001b[39m)\n",
      "File \u001b[1;32mc:\\Users\\Komiyama Yuji\\anaconda3\\envs\\pymc_env\\Lib\\site-packages\\pymc\\sampling\\mcmc.py:1052\u001b[0m, in \u001b[0;36m_mp_sample\u001b[1;34m(draws, tune, step, chains, cores, random_seed, start, progressbar, traces, model, callback, mp_ctx, **kwargs)\u001b[0m\n\u001b[0;32m   1049\u001b[0m \u001b[39m# We did draws += tune in pm.sample\u001b[39;00m\n\u001b[0;32m   1050\u001b[0m draws \u001b[39m-\u001b[39m\u001b[39m=\u001b[39m tune\n\u001b[1;32m-> 1052\u001b[0m sampler \u001b[39m=\u001b[39m ps\u001b[39m.\u001b[39mParallelSampler(\n\u001b[0;32m   1053\u001b[0m     draws\u001b[39m=\u001b[39mdraws,\n\u001b[0;32m   1054\u001b[0m     tune\u001b[39m=\u001b[39mtune,\n\u001b[0;32m   1055\u001b[0m     chains\u001b[39m=\u001b[39mchains,\n\u001b[0;32m   1056\u001b[0m     cores\u001b[39m=\u001b[39mcores,\n\u001b[0;32m   1057\u001b[0m     seeds\u001b[39m=\u001b[39mrandom_seed,\n\u001b[0;32m   1058\u001b[0m     start_points\u001b[39m=\u001b[39mstart,\n\u001b[0;32m   1059\u001b[0m     step_method\u001b[39m=\u001b[39mstep,\n\u001b[0;32m   1060\u001b[0m     progressbar\u001b[39m=\u001b[39mprogressbar,\n\u001b[0;32m   1061\u001b[0m     mp_ctx\u001b[39m=\u001b[39mmp_ctx,\n\u001b[0;32m   1062\u001b[0m )\n\u001b[0;32m   1063\u001b[0m \u001b[39mtry\u001b[39;00m:\n\u001b[0;32m   1064\u001b[0m     \u001b[39mtry\u001b[39;00m:\n",
      "File \u001b[1;32mc:\\Users\\Komiyama Yuji\\anaconda3\\envs\\pymc_env\\Lib\\site-packages\\pymc\\sampling\\parallel.py:400\u001b[0m, in \u001b[0;36mParallelSampler.__init__\u001b[1;34m(self, draws, tune, chains, cores, seeds, start_points, step_method, progressbar, mp_ctx)\u001b[0m\n\u001b[0;32m    398\u001b[0m step_method_pickled \u001b[39m=\u001b[39m \u001b[39mNone\u001b[39;00m\n\u001b[0;32m    399\u001b[0m \u001b[39mif\u001b[39;00m mp_ctx\u001b[39m.\u001b[39mget_start_method() \u001b[39m!=\u001b[39m \u001b[39m\"\u001b[39m\u001b[39mfork\u001b[39m\u001b[39m\"\u001b[39m:\n\u001b[1;32m--> 400\u001b[0m     step_method_pickled \u001b[39m=\u001b[39m cloudpickle\u001b[39m.\u001b[39mdumps(step_method, protocol\u001b[39m=\u001b[39m\u001b[39m-\u001b[39m\u001b[39m1\u001b[39m)\n\u001b[0;32m    402\u001b[0m \u001b[39mself\u001b[39m\u001b[39m.\u001b[39m_samplers \u001b[39m=\u001b[39m [\n\u001b[0;32m    403\u001b[0m     ProcessAdapter(\n\u001b[0;32m    404\u001b[0m         draws,\n\u001b[1;32m   (...)\u001b[0m\n\u001b[0;32m    413\u001b[0m     \u001b[39mfor\u001b[39;00m chain, seed, start \u001b[39min\u001b[39;00m \u001b[39mzip\u001b[39m(\u001b[39mrange\u001b[39m(chains), seeds, start_points)\n\u001b[0;32m    414\u001b[0m ]\n\u001b[0;32m    416\u001b[0m \u001b[39mself\u001b[39m\u001b[39m.\u001b[39m_inactive \u001b[39m=\u001b[39m \u001b[39mself\u001b[39m\u001b[39m.\u001b[39m_samplers\u001b[39m.\u001b[39mcopy()\n",
      "File \u001b[1;32mc:\\Users\\Komiyama Yuji\\anaconda3\\envs\\pymc_env\\Lib\\site-packages\\cloudpickle\\cloudpickle_fast.py:73\u001b[0m, in \u001b[0;36mdumps\u001b[1;34m(obj, protocol, buffer_callback)\u001b[0m\n\u001b[0;32m     69\u001b[0m \u001b[39mwith\u001b[39;00m io\u001b[39m.\u001b[39mBytesIO() \u001b[39mas\u001b[39;00m file:\n\u001b[0;32m     70\u001b[0m     cp \u001b[39m=\u001b[39m CloudPickler(\n\u001b[0;32m     71\u001b[0m         file, protocol\u001b[39m=\u001b[39mprotocol, buffer_callback\u001b[39m=\u001b[39mbuffer_callback\n\u001b[0;32m     72\u001b[0m     )\n\u001b[1;32m---> 73\u001b[0m     cp\u001b[39m.\u001b[39mdump(obj)\n\u001b[0;32m     74\u001b[0m     \u001b[39mreturn\u001b[39;00m file\u001b[39m.\u001b[39mgetvalue()\n",
      "File \u001b[1;32mc:\\Users\\Komiyama Yuji\\anaconda3\\envs\\pymc_env\\Lib\\site-packages\\cloudpickle\\cloudpickle_fast.py:602\u001b[0m, in \u001b[0;36mCloudPickler.dump\u001b[1;34m(self, obj)\u001b[0m\n\u001b[0;32m    600\u001b[0m \u001b[39mdef\u001b[39;00m \u001b[39mdump\u001b[39m(\u001b[39mself\u001b[39m, obj):\n\u001b[0;32m    601\u001b[0m     \u001b[39mtry\u001b[39;00m:\n\u001b[1;32m--> 602\u001b[0m         \u001b[39mreturn\u001b[39;00m Pickler\u001b[39m.\u001b[39mdump(\u001b[39mself\u001b[39m, obj)\n\u001b[0;32m    603\u001b[0m     \u001b[39mexcept\u001b[39;00m \u001b[39mRuntimeError\u001b[39;00m \u001b[39mas\u001b[39;00m e:\n\u001b[0;32m    604\u001b[0m         \u001b[39mif\u001b[39;00m \u001b[39m\"\u001b[39m\u001b[39mrecursion\u001b[39m\u001b[39m\"\u001b[39m \u001b[39min\u001b[39;00m e\u001b[39m.\u001b[39margs[\u001b[39m0\u001b[39m]:\n",
      "File \u001b[1;32mc:\\Users\\Komiyama Yuji\\anaconda3\\envs\\pymc_env\\Lib\\site-packages\\cloudpickle\\cloudpickle_fast.py:692\u001b[0m, in \u001b[0;36mCloudPickler.reducer_override\u001b[1;34m(self, obj)\u001b[0m\n\u001b[0;32m    690\u001b[0m     \u001b[39mreturn\u001b[39;00m _class_reduce(obj)\n\u001b[0;32m    691\u001b[0m \u001b[39melif\u001b[39;00m \u001b[39misinstance\u001b[39m(obj, types\u001b[39m.\u001b[39mFunctionType):\n\u001b[1;32m--> 692\u001b[0m     \u001b[39mreturn\u001b[39;00m \u001b[39mself\u001b[39m\u001b[39m.\u001b[39m_function_reduce(obj)\n\u001b[0;32m    693\u001b[0m \u001b[39melse\u001b[39;00m:\n\u001b[0;32m    694\u001b[0m     \u001b[39m# fallback to save_global, including the Pickler's\u001b[39;00m\n\u001b[0;32m    695\u001b[0m     \u001b[39m# dispatch_table\u001b[39;00m\n\u001b[0;32m    696\u001b[0m     \u001b[39mreturn\u001b[39;00m \u001b[39mNotImplemented\u001b[39m\n",
      "File \u001b[1;32mc:\\Users\\Komiyama Yuji\\anaconda3\\envs\\pymc_env\\Lib\\site-packages\\cloudpickle\\cloudpickle_fast.py:565\u001b[0m, in \u001b[0;36mCloudPickler._function_reduce\u001b[1;34m(self, obj)\u001b[0m\n\u001b[0;32m    563\u001b[0m     \u001b[39mreturn\u001b[39;00m \u001b[39mNotImplemented\u001b[39m\n\u001b[0;32m    564\u001b[0m \u001b[39melse\u001b[39;00m:\n\u001b[1;32m--> 565\u001b[0m     \u001b[39mreturn\u001b[39;00m \u001b[39mself\u001b[39m\u001b[39m.\u001b[39m_dynamic_function_reduce(obj)\n",
      "File \u001b[1;32mc:\\Users\\Komiyama Yuji\\anaconda3\\envs\\pymc_env\\Lib\\site-packages\\cloudpickle\\cloudpickle_fast.py:546\u001b[0m, in \u001b[0;36mCloudPickler._dynamic_function_reduce\u001b[1;34m(self, func)\u001b[0m\n\u001b[0;32m    544\u001b[0m \u001b[39m\"\"\"Reduce a function that is not pickleable via attribute lookup.\"\"\"\u001b[39;00m\n\u001b[0;32m    545\u001b[0m newargs \u001b[39m=\u001b[39m \u001b[39mself\u001b[39m\u001b[39m.\u001b[39m_function_getnewargs(func)\n\u001b[1;32m--> 546\u001b[0m state \u001b[39m=\u001b[39m _function_getstate(func)\n\u001b[0;32m    547\u001b[0m \u001b[39mreturn\u001b[39;00m (types\u001b[39m.\u001b[39mFunctionType, newargs, state, \u001b[39mNone\u001b[39;00m, \u001b[39mNone\u001b[39;00m,\n\u001b[0;32m    548\u001b[0m         _function_setstate)\n",
      "File \u001b[1;32mc:\\Users\\Komiyama Yuji\\anaconda3\\envs\\pymc_env\\Lib\\site-packages\\cloudpickle\\cloudpickle_fast.py:157\u001b[0m, in \u001b[0;36m_function_getstate\u001b[1;34m(func)\u001b[0m\n\u001b[0;32m    139\u001b[0m \u001b[39mdef\u001b[39;00m \u001b[39m_function_getstate\u001b[39m(func):\n\u001b[0;32m    140\u001b[0m     \u001b[39m# - Put func's dynamic attributes (stored in func.__dict__) in state. These\u001b[39;00m\n\u001b[0;32m    141\u001b[0m     \u001b[39m#   attributes will be restored at unpickling time using\u001b[39;00m\n\u001b[1;32m   (...)\u001b[0m\n\u001b[0;32m    144\u001b[0m     \u001b[39m#   unpickling time by iterating over slotstate and calling setattr(func,\u001b[39;00m\n\u001b[0;32m    145\u001b[0m     \u001b[39m#   slotname, slotvalue)\u001b[39;00m\n\u001b[0;32m    146\u001b[0m     slotstate \u001b[39m=\u001b[39m {\n\u001b[0;32m    147\u001b[0m         \u001b[39m\"\u001b[39m\u001b[39m__name__\u001b[39m\u001b[39m\"\u001b[39m: func\u001b[39m.\u001b[39m\u001b[39m__name__\u001b[39m,\n\u001b[0;32m    148\u001b[0m         \u001b[39m\"\u001b[39m\u001b[39m__qualname__\u001b[39m\u001b[39m\"\u001b[39m: func\u001b[39m.\u001b[39m\u001b[39m__qualname__\u001b[39m,\n\u001b[1;32m   (...)\u001b[0m\n\u001b[0;32m    154\u001b[0m         \u001b[39m\"\u001b[39m\u001b[39m__closure__\u001b[39m\u001b[39m\"\u001b[39m: func\u001b[39m.\u001b[39m\u001b[39m__closure__\u001b[39m,\n\u001b[0;32m    155\u001b[0m     }\n\u001b[1;32m--> 157\u001b[0m     f_globals_ref \u001b[39m=\u001b[39m _extract_code_globals(func\u001b[39m.\u001b[39m\u001b[39m__code__\u001b[39m)\n\u001b[0;32m    158\u001b[0m     f_globals \u001b[39m=\u001b[39m {k: func\u001b[39m.\u001b[39m\u001b[39m__globals__\u001b[39m[k] \u001b[39mfor\u001b[39;00m k \u001b[39min\u001b[39;00m f_globals_ref \u001b[39mif\u001b[39;00m k \u001b[39min\u001b[39;00m\n\u001b[0;32m    159\u001b[0m                  func\u001b[39m.\u001b[39m\u001b[39m__globals__\u001b[39m}\n\u001b[0;32m    161\u001b[0m     closure_values \u001b[39m=\u001b[39m (\n\u001b[0;32m    162\u001b[0m         \u001b[39mlist\u001b[39m(\u001b[39mmap\u001b[39m(_get_cell_contents, func\u001b[39m.\u001b[39m\u001b[39m__closure__\u001b[39m))\n\u001b[0;32m    163\u001b[0m         \u001b[39mif\u001b[39;00m func\u001b[39m.\u001b[39m\u001b[39m__closure__\u001b[39m \u001b[39mis\u001b[39;00m \u001b[39mnot\u001b[39;00m \u001b[39mNone\u001b[39;00m \u001b[39melse\u001b[39;00m ()\n\u001b[0;32m    164\u001b[0m     )\n",
      "File \u001b[1;32mc:\\Users\\Komiyama Yuji\\anaconda3\\envs\\pymc_env\\Lib\\site-packages\\cloudpickle\\cloudpickle.py:334\u001b[0m, in \u001b[0;36m_extract_code_globals\u001b[1;34m(co)\u001b[0m\n\u001b[0;32m    330\u001b[0m names \u001b[39m=\u001b[39m co\u001b[39m.\u001b[39mco_names\n\u001b[0;32m    331\u001b[0m \u001b[39m# We use a dict with None values instead of a set to get a\u001b[39;00m\n\u001b[0;32m    332\u001b[0m \u001b[39m# deterministic order (assuming Python 3.6+) and avoid introducing\u001b[39;00m\n\u001b[0;32m    333\u001b[0m \u001b[39m# non-deterministic pickle bytes as a results.\u001b[39;00m\n\u001b[1;32m--> 334\u001b[0m out_names \u001b[39m=\u001b[39m {names[oparg]: \u001b[39mNone\u001b[39;00m \u001b[39mfor\u001b[39;00m _, oparg \u001b[39min\u001b[39;00m _walk_global_ops(co)}\n\u001b[0;32m    336\u001b[0m \u001b[39m# Declaring a function inside another one using the \"def ...\"\u001b[39;00m\n\u001b[0;32m    337\u001b[0m \u001b[39m# syntax generates a constant code object corresponding to the one\u001b[39;00m\n\u001b[0;32m    338\u001b[0m \u001b[39m# of the nested function's As the nested function may itself need\u001b[39;00m\n\u001b[0;32m    339\u001b[0m \u001b[39m# global variables, we need to introspect its code, extract its\u001b[39;00m\n\u001b[0;32m    340\u001b[0m \u001b[39m# globals, (look for code object in it's co_consts attribute..) and\u001b[39;00m\n\u001b[0;32m    341\u001b[0m \u001b[39m# add the result to code_globals\u001b[39;00m\n\u001b[0;32m    342\u001b[0m \u001b[39mif\u001b[39;00m co\u001b[39m.\u001b[39mco_consts:\n",
      "File \u001b[1;32mc:\\Users\\Komiyama Yuji\\anaconda3\\envs\\pymc_env\\Lib\\site-packages\\cloudpickle\\cloudpickle.py:334\u001b[0m, in \u001b[0;36m<dictcomp>\u001b[1;34m(.0)\u001b[0m\n\u001b[0;32m    330\u001b[0m names \u001b[39m=\u001b[39m co\u001b[39m.\u001b[39mco_names\n\u001b[0;32m    331\u001b[0m \u001b[39m# We use a dict with None values instead of a set to get a\u001b[39;00m\n\u001b[0;32m    332\u001b[0m \u001b[39m# deterministic order (assuming Python 3.6+) and avoid introducing\u001b[39;00m\n\u001b[0;32m    333\u001b[0m \u001b[39m# non-deterministic pickle bytes as a results.\u001b[39;00m\n\u001b[1;32m--> 334\u001b[0m out_names \u001b[39m=\u001b[39m {names[oparg]: \u001b[39mNone\u001b[39;00m \u001b[39mfor\u001b[39;00m _, oparg \u001b[39min\u001b[39;00m _walk_global_ops(co)}\n\u001b[0;32m    336\u001b[0m \u001b[39m# Declaring a function inside another one using the \"def ...\"\u001b[39;00m\n\u001b[0;32m    337\u001b[0m \u001b[39m# syntax generates a constant code object corresponding to the one\u001b[39;00m\n\u001b[0;32m    338\u001b[0m \u001b[39m# of the nested function's As the nested function may itself need\u001b[39;00m\n\u001b[0;32m    339\u001b[0m \u001b[39m# global variables, we need to introspect its code, extract its\u001b[39;00m\n\u001b[0;32m    340\u001b[0m \u001b[39m# globals, (look for code object in it's co_consts attribute..) and\u001b[39;00m\n\u001b[0;32m    341\u001b[0m \u001b[39m# add the result to code_globals\u001b[39;00m\n\u001b[0;32m    342\u001b[0m \u001b[39mif\u001b[39;00m co\u001b[39m.\u001b[39mco_consts:\n",
      "\u001b[1;31mIndexError\u001b[0m: tuple index out of range"
     ]
    }
   ],
   "source": [
    "import pymc as pm\n",
    "\n",
    "\n",
    "if __name__ == \"__main__\":\n",
    "\n",
    "    with pm.Model() as model:\n",
    "        p = pm.Beta(\"p\", alpha=1, beta=1)\n",
    "        y = pm.Binomial(\"y\", n=10, p=p, observed=[1,1,0,0])\n",
    "        idata = pm.sample()"
   ]
  },
  {
   "cell_type": "code",
   "execution_count": 29,
   "metadata": {},
   "outputs": [
    {
     "name": "stderr",
     "output_type": "stream",
     "text": [
      "Auto-assigning NUTS sampler...\n",
      "Initializing NUTS using jitter+adapt_diag...\n",
      "Multiprocess sampling (4 chains in 4 jobs)\n",
      "NUTS: [p]\n"
     ]
    },
    {
     "ename": "IndexError",
     "evalue": "tuple index out of range",
     "output_type": "error",
     "traceback": [
      "\u001b[1;31m---------------------------------------------------------------------------\u001b[0m",
      "\u001b[1;31mIndexError\u001b[0m                                Traceback (most recent call last)",
      "Cell \u001b[1;32mIn[29], line 7\u001b[0m\n\u001b[0;32m      5\u001b[0m p \u001b[39m=\u001b[39m pm\u001b[39m.\u001b[39mBeta(\u001b[39m\"\u001b[39m\u001b[39mp\u001b[39m\u001b[39m\"\u001b[39m, alpha\u001b[39m=\u001b[39m\u001b[39m1\u001b[39m, beta\u001b[39m=\u001b[39m\u001b[39m1\u001b[39m)\n\u001b[0;32m      6\u001b[0m y \u001b[39m=\u001b[39m pm\u001b[39m.\u001b[39mBinomial(\u001b[39m\"\u001b[39m\u001b[39my\u001b[39m\u001b[39m\"\u001b[39m, n\u001b[39m=\u001b[39m\u001b[39m4\u001b[39m, p\u001b[39m=\u001b[39mp, observed\u001b[39m=\u001b[39m[\u001b[39m1\u001b[39m,\u001b[39m1\u001b[39m,\u001b[39m0\u001b[39m,\u001b[39m0\u001b[39m])\n\u001b[1;32m----> 7\u001b[0m idata \u001b[39m=\u001b[39m pm\u001b[39m.\u001b[39msample()\n",
      "File \u001b[1;32mc:\\Users\\Komiyama Yuji\\anaconda3\\envs\\pymc_env\\Lib\\site-packages\\pymc\\sampling\\mcmc.py:677\u001b[0m, in \u001b[0;36msample\u001b[1;34m(draws, tune, chains, cores, random_seed, progressbar, step, nuts_sampler, initvals, init, jitter_max_retries, n_init, trace, discard_tuned_samples, compute_convergence_checks, keep_warning_stat, return_inferencedata, idata_kwargs, nuts_sampler_kwargs, callback, mp_ctx, model, **kwargs)\u001b[0m\n\u001b[0;32m    675\u001b[0m _print_step_hierarchy(step)\n\u001b[0;32m    676\u001b[0m \u001b[39mtry\u001b[39;00m:\n\u001b[1;32m--> 677\u001b[0m     _mp_sample(\u001b[39m*\u001b[39m\u001b[39m*\u001b[39msample_args, \u001b[39m*\u001b[39m\u001b[39m*\u001b[39mparallel_args)\n\u001b[0;32m    678\u001b[0m \u001b[39mexcept\u001b[39;00m pickle\u001b[39m.\u001b[39mPickleError:\n\u001b[0;32m    679\u001b[0m     _log\u001b[39m.\u001b[39mwarning(\u001b[39m\"\u001b[39m\u001b[39mCould not pickle model, sampling singlethreaded.\u001b[39m\u001b[39m\"\u001b[39m)\n",
      "File \u001b[1;32mc:\\Users\\Komiyama Yuji\\anaconda3\\envs\\pymc_env\\Lib\\site-packages\\pymc\\sampling\\mcmc.py:1052\u001b[0m, in \u001b[0;36m_mp_sample\u001b[1;34m(draws, tune, step, chains, cores, random_seed, start, progressbar, traces, model, callback, mp_ctx, **kwargs)\u001b[0m\n\u001b[0;32m   1049\u001b[0m \u001b[39m# We did draws += tune in pm.sample\u001b[39;00m\n\u001b[0;32m   1050\u001b[0m draws \u001b[39m-\u001b[39m\u001b[39m=\u001b[39m tune\n\u001b[1;32m-> 1052\u001b[0m sampler \u001b[39m=\u001b[39m ps\u001b[39m.\u001b[39mParallelSampler(\n\u001b[0;32m   1053\u001b[0m     draws\u001b[39m=\u001b[39mdraws,\n\u001b[0;32m   1054\u001b[0m     tune\u001b[39m=\u001b[39mtune,\n\u001b[0;32m   1055\u001b[0m     chains\u001b[39m=\u001b[39mchains,\n\u001b[0;32m   1056\u001b[0m     cores\u001b[39m=\u001b[39mcores,\n\u001b[0;32m   1057\u001b[0m     seeds\u001b[39m=\u001b[39mrandom_seed,\n\u001b[0;32m   1058\u001b[0m     start_points\u001b[39m=\u001b[39mstart,\n\u001b[0;32m   1059\u001b[0m     step_method\u001b[39m=\u001b[39mstep,\n\u001b[0;32m   1060\u001b[0m     progressbar\u001b[39m=\u001b[39mprogressbar,\n\u001b[0;32m   1061\u001b[0m     mp_ctx\u001b[39m=\u001b[39mmp_ctx,\n\u001b[0;32m   1062\u001b[0m )\n\u001b[0;32m   1063\u001b[0m \u001b[39mtry\u001b[39;00m:\n\u001b[0;32m   1064\u001b[0m     \u001b[39mtry\u001b[39;00m:\n",
      "File \u001b[1;32mc:\\Users\\Komiyama Yuji\\anaconda3\\envs\\pymc_env\\Lib\\site-packages\\pymc\\sampling\\parallel.py:400\u001b[0m, in \u001b[0;36mParallelSampler.__init__\u001b[1;34m(self, draws, tune, chains, cores, seeds, start_points, step_method, progressbar, mp_ctx)\u001b[0m\n\u001b[0;32m    398\u001b[0m step_method_pickled \u001b[39m=\u001b[39m \u001b[39mNone\u001b[39;00m\n\u001b[0;32m    399\u001b[0m \u001b[39mif\u001b[39;00m mp_ctx\u001b[39m.\u001b[39mget_start_method() \u001b[39m!=\u001b[39m \u001b[39m\"\u001b[39m\u001b[39mfork\u001b[39m\u001b[39m\"\u001b[39m:\n\u001b[1;32m--> 400\u001b[0m     step_method_pickled \u001b[39m=\u001b[39m cloudpickle\u001b[39m.\u001b[39mdumps(step_method, protocol\u001b[39m=\u001b[39m\u001b[39m-\u001b[39m\u001b[39m1\u001b[39m)\n\u001b[0;32m    402\u001b[0m \u001b[39mself\u001b[39m\u001b[39m.\u001b[39m_samplers \u001b[39m=\u001b[39m [\n\u001b[0;32m    403\u001b[0m     ProcessAdapter(\n\u001b[0;32m    404\u001b[0m         draws,\n\u001b[1;32m   (...)\u001b[0m\n\u001b[0;32m    413\u001b[0m     \u001b[39mfor\u001b[39;00m chain, seed, start \u001b[39min\u001b[39;00m \u001b[39mzip\u001b[39m(\u001b[39mrange\u001b[39m(chains), seeds, start_points)\n\u001b[0;32m    414\u001b[0m ]\n\u001b[0;32m    416\u001b[0m \u001b[39mself\u001b[39m\u001b[39m.\u001b[39m_inactive \u001b[39m=\u001b[39m \u001b[39mself\u001b[39m\u001b[39m.\u001b[39m_samplers\u001b[39m.\u001b[39mcopy()\n",
      "File \u001b[1;32mc:\\Users\\Komiyama Yuji\\anaconda3\\envs\\pymc_env\\Lib\\site-packages\\cloudpickle\\cloudpickle_fast.py:73\u001b[0m, in \u001b[0;36mdumps\u001b[1;34m(obj, protocol, buffer_callback)\u001b[0m\n\u001b[0;32m     69\u001b[0m \u001b[39mwith\u001b[39;00m io\u001b[39m.\u001b[39mBytesIO() \u001b[39mas\u001b[39;00m file:\n\u001b[0;32m     70\u001b[0m     cp \u001b[39m=\u001b[39m CloudPickler(\n\u001b[0;32m     71\u001b[0m         file, protocol\u001b[39m=\u001b[39mprotocol, buffer_callback\u001b[39m=\u001b[39mbuffer_callback\n\u001b[0;32m     72\u001b[0m     )\n\u001b[1;32m---> 73\u001b[0m     cp\u001b[39m.\u001b[39mdump(obj)\n\u001b[0;32m     74\u001b[0m     \u001b[39mreturn\u001b[39;00m file\u001b[39m.\u001b[39mgetvalue()\n",
      "File \u001b[1;32mc:\\Users\\Komiyama Yuji\\anaconda3\\envs\\pymc_env\\Lib\\site-packages\\cloudpickle\\cloudpickle_fast.py:602\u001b[0m, in \u001b[0;36mCloudPickler.dump\u001b[1;34m(self, obj)\u001b[0m\n\u001b[0;32m    600\u001b[0m \u001b[39mdef\u001b[39;00m \u001b[39mdump\u001b[39m(\u001b[39mself\u001b[39m, obj):\n\u001b[0;32m    601\u001b[0m     \u001b[39mtry\u001b[39;00m:\n\u001b[1;32m--> 602\u001b[0m         \u001b[39mreturn\u001b[39;00m Pickler\u001b[39m.\u001b[39mdump(\u001b[39mself\u001b[39m, obj)\n\u001b[0;32m    603\u001b[0m     \u001b[39mexcept\u001b[39;00m \u001b[39mRuntimeError\u001b[39;00m \u001b[39mas\u001b[39;00m e:\n\u001b[0;32m    604\u001b[0m         \u001b[39mif\u001b[39;00m \u001b[39m\"\u001b[39m\u001b[39mrecursion\u001b[39m\u001b[39m\"\u001b[39m \u001b[39min\u001b[39;00m e\u001b[39m.\u001b[39margs[\u001b[39m0\u001b[39m]:\n",
      "File \u001b[1;32mc:\\Users\\Komiyama Yuji\\anaconda3\\envs\\pymc_env\\Lib\\site-packages\\cloudpickle\\cloudpickle_fast.py:692\u001b[0m, in \u001b[0;36mCloudPickler.reducer_override\u001b[1;34m(self, obj)\u001b[0m\n\u001b[0;32m    690\u001b[0m     \u001b[39mreturn\u001b[39;00m _class_reduce(obj)\n\u001b[0;32m    691\u001b[0m \u001b[39melif\u001b[39;00m \u001b[39misinstance\u001b[39m(obj, types\u001b[39m.\u001b[39mFunctionType):\n\u001b[1;32m--> 692\u001b[0m     \u001b[39mreturn\u001b[39;00m \u001b[39mself\u001b[39m\u001b[39m.\u001b[39m_function_reduce(obj)\n\u001b[0;32m    693\u001b[0m \u001b[39melse\u001b[39;00m:\n\u001b[0;32m    694\u001b[0m     \u001b[39m# fallback to save_global, including the Pickler's\u001b[39;00m\n\u001b[0;32m    695\u001b[0m     \u001b[39m# dispatch_table\u001b[39;00m\n\u001b[0;32m    696\u001b[0m     \u001b[39mreturn\u001b[39;00m \u001b[39mNotImplemented\u001b[39m\n",
      "File \u001b[1;32mc:\\Users\\Komiyama Yuji\\anaconda3\\envs\\pymc_env\\Lib\\site-packages\\cloudpickle\\cloudpickle_fast.py:565\u001b[0m, in \u001b[0;36mCloudPickler._function_reduce\u001b[1;34m(self, obj)\u001b[0m\n\u001b[0;32m    563\u001b[0m     \u001b[39mreturn\u001b[39;00m \u001b[39mNotImplemented\u001b[39m\n\u001b[0;32m    564\u001b[0m \u001b[39melse\u001b[39;00m:\n\u001b[1;32m--> 565\u001b[0m     \u001b[39mreturn\u001b[39;00m \u001b[39mself\u001b[39m\u001b[39m.\u001b[39m_dynamic_function_reduce(obj)\n",
      "File \u001b[1;32mc:\\Users\\Komiyama Yuji\\anaconda3\\envs\\pymc_env\\Lib\\site-packages\\cloudpickle\\cloudpickle_fast.py:546\u001b[0m, in \u001b[0;36mCloudPickler._dynamic_function_reduce\u001b[1;34m(self, func)\u001b[0m\n\u001b[0;32m    544\u001b[0m \u001b[39m\"\"\"Reduce a function that is not pickleable via attribute lookup.\"\"\"\u001b[39;00m\n\u001b[0;32m    545\u001b[0m newargs \u001b[39m=\u001b[39m \u001b[39mself\u001b[39m\u001b[39m.\u001b[39m_function_getnewargs(func)\n\u001b[1;32m--> 546\u001b[0m state \u001b[39m=\u001b[39m _function_getstate(func)\n\u001b[0;32m    547\u001b[0m \u001b[39mreturn\u001b[39;00m (types\u001b[39m.\u001b[39mFunctionType, newargs, state, \u001b[39mNone\u001b[39;00m, \u001b[39mNone\u001b[39;00m,\n\u001b[0;32m    548\u001b[0m         _function_setstate)\n",
      "File \u001b[1;32mc:\\Users\\Komiyama Yuji\\anaconda3\\envs\\pymc_env\\Lib\\site-packages\\cloudpickle\\cloudpickle_fast.py:157\u001b[0m, in \u001b[0;36m_function_getstate\u001b[1;34m(func)\u001b[0m\n\u001b[0;32m    139\u001b[0m \u001b[39mdef\u001b[39;00m \u001b[39m_function_getstate\u001b[39m(func):\n\u001b[0;32m    140\u001b[0m     \u001b[39m# - Put func's dynamic attributes (stored in func.__dict__) in state. These\u001b[39;00m\n\u001b[0;32m    141\u001b[0m     \u001b[39m#   attributes will be restored at unpickling time using\u001b[39;00m\n\u001b[1;32m   (...)\u001b[0m\n\u001b[0;32m    144\u001b[0m     \u001b[39m#   unpickling time by iterating over slotstate and calling setattr(func,\u001b[39;00m\n\u001b[0;32m    145\u001b[0m     \u001b[39m#   slotname, slotvalue)\u001b[39;00m\n\u001b[0;32m    146\u001b[0m     slotstate \u001b[39m=\u001b[39m {\n\u001b[0;32m    147\u001b[0m         \u001b[39m\"\u001b[39m\u001b[39m__name__\u001b[39m\u001b[39m\"\u001b[39m: func\u001b[39m.\u001b[39m\u001b[39m__name__\u001b[39m,\n\u001b[0;32m    148\u001b[0m         \u001b[39m\"\u001b[39m\u001b[39m__qualname__\u001b[39m\u001b[39m\"\u001b[39m: func\u001b[39m.\u001b[39m\u001b[39m__qualname__\u001b[39m,\n\u001b[1;32m   (...)\u001b[0m\n\u001b[0;32m    154\u001b[0m         \u001b[39m\"\u001b[39m\u001b[39m__closure__\u001b[39m\u001b[39m\"\u001b[39m: func\u001b[39m.\u001b[39m\u001b[39m__closure__\u001b[39m,\n\u001b[0;32m    155\u001b[0m     }\n\u001b[1;32m--> 157\u001b[0m     f_globals_ref \u001b[39m=\u001b[39m _extract_code_globals(func\u001b[39m.\u001b[39m\u001b[39m__code__\u001b[39m)\n\u001b[0;32m    158\u001b[0m     f_globals \u001b[39m=\u001b[39m {k: func\u001b[39m.\u001b[39m\u001b[39m__globals__\u001b[39m[k] \u001b[39mfor\u001b[39;00m k \u001b[39min\u001b[39;00m f_globals_ref \u001b[39mif\u001b[39;00m k \u001b[39min\u001b[39;00m\n\u001b[0;32m    159\u001b[0m                  func\u001b[39m.\u001b[39m\u001b[39m__globals__\u001b[39m}\n\u001b[0;32m    161\u001b[0m     closure_values \u001b[39m=\u001b[39m (\n\u001b[0;32m    162\u001b[0m         \u001b[39mlist\u001b[39m(\u001b[39mmap\u001b[39m(_get_cell_contents, func\u001b[39m.\u001b[39m\u001b[39m__closure__\u001b[39m))\n\u001b[0;32m    163\u001b[0m         \u001b[39mif\u001b[39;00m func\u001b[39m.\u001b[39m\u001b[39m__closure__\u001b[39m \u001b[39mis\u001b[39;00m \u001b[39mnot\u001b[39;00m \u001b[39mNone\u001b[39;00m \u001b[39melse\u001b[39;00m ()\n\u001b[0;32m    164\u001b[0m     )\n",
      "File \u001b[1;32mc:\\Users\\Komiyama Yuji\\anaconda3\\envs\\pymc_env\\Lib\\site-packages\\cloudpickle\\cloudpickle.py:334\u001b[0m, in \u001b[0;36m_extract_code_globals\u001b[1;34m(co)\u001b[0m\n\u001b[0;32m    330\u001b[0m names \u001b[39m=\u001b[39m co\u001b[39m.\u001b[39mco_names\n\u001b[0;32m    331\u001b[0m \u001b[39m# We use a dict with None values instead of a set to get a\u001b[39;00m\n\u001b[0;32m    332\u001b[0m \u001b[39m# deterministic order (assuming Python 3.6+) and avoid introducing\u001b[39;00m\n\u001b[0;32m    333\u001b[0m \u001b[39m# non-deterministic pickle bytes as a results.\u001b[39;00m\n\u001b[1;32m--> 334\u001b[0m out_names \u001b[39m=\u001b[39m {names[oparg]: \u001b[39mNone\u001b[39;00m \u001b[39mfor\u001b[39;00m _, oparg \u001b[39min\u001b[39;00m _walk_global_ops(co)}\n\u001b[0;32m    336\u001b[0m \u001b[39m# Declaring a function inside another one using the \"def ...\"\u001b[39;00m\n\u001b[0;32m    337\u001b[0m \u001b[39m# syntax generates a constant code object corresponding to the one\u001b[39;00m\n\u001b[0;32m    338\u001b[0m \u001b[39m# of the nested function's As the nested function may itself need\u001b[39;00m\n\u001b[0;32m    339\u001b[0m \u001b[39m# global variables, we need to introspect its code, extract its\u001b[39;00m\n\u001b[0;32m    340\u001b[0m \u001b[39m# globals, (look for code object in it's co_consts attribute..) and\u001b[39;00m\n\u001b[0;32m    341\u001b[0m \u001b[39m# add the result to code_globals\u001b[39;00m\n\u001b[0;32m    342\u001b[0m \u001b[39mif\u001b[39;00m co\u001b[39m.\u001b[39mco_consts:\n",
      "File \u001b[1;32mc:\\Users\\Komiyama Yuji\\anaconda3\\envs\\pymc_env\\Lib\\site-packages\\cloudpickle\\cloudpickle.py:334\u001b[0m, in \u001b[0;36m<dictcomp>\u001b[1;34m(.0)\u001b[0m\n\u001b[0;32m    330\u001b[0m names \u001b[39m=\u001b[39m co\u001b[39m.\u001b[39mco_names\n\u001b[0;32m    331\u001b[0m \u001b[39m# We use a dict with None values instead of a set to get a\u001b[39;00m\n\u001b[0;32m    332\u001b[0m \u001b[39m# deterministic order (assuming Python 3.6+) and avoid introducing\u001b[39;00m\n\u001b[0;32m    333\u001b[0m \u001b[39m# non-deterministic pickle bytes as a results.\u001b[39;00m\n\u001b[1;32m--> 334\u001b[0m out_names \u001b[39m=\u001b[39m {names[oparg]: \u001b[39mNone\u001b[39;00m \u001b[39mfor\u001b[39;00m _, oparg \u001b[39min\u001b[39;00m _walk_global_ops(co)}\n\u001b[0;32m    336\u001b[0m \u001b[39m# Declaring a function inside another one using the \"def ...\"\u001b[39;00m\n\u001b[0;32m    337\u001b[0m \u001b[39m# syntax generates a constant code object corresponding to the one\u001b[39;00m\n\u001b[0;32m    338\u001b[0m \u001b[39m# of the nested function's As the nested function may itself need\u001b[39;00m\n\u001b[0;32m    339\u001b[0m \u001b[39m# global variables, we need to introspect its code, extract its\u001b[39;00m\n\u001b[0;32m    340\u001b[0m \u001b[39m# globals, (look for code object in it's co_consts attribute..) and\u001b[39;00m\n\u001b[0;32m    341\u001b[0m \u001b[39m# add the result to code_globals\u001b[39;00m\n\u001b[0;32m    342\u001b[0m \u001b[39mif\u001b[39;00m co\u001b[39m.\u001b[39mco_consts:\n",
      "\u001b[1;31mIndexError\u001b[0m: tuple index out of range"
     ]
    }
   ],
   "source": [
    "import pymc as pm\n",
    "\n",
    "if __name__ == \"__main__\":\n",
    "    with pm.Model() as model:\n",
    "        p = pm.Beta(\"p\", alpha=1, beta=1)\n",
    "        y = pm.Binomial(\"y\", n=4, p=p, observed=[1,1,0,0])\n",
    "        idata = pm.sample()\n"
   ]
  }
 ],
 "metadata": {
  "kernelspec": {
   "display_name": "pymc_env",
   "language": "python",
   "name": "python3"
  },
  "language_info": {
   "codemirror_mode": {
    "name": "ipython",
    "version": 3
   },
   "file_extension": ".py",
   "mimetype": "text/x-python",
   "name": "python",
   "nbconvert_exporter": "python",
   "pygments_lexer": "ipython3",
   "version": "3.11.3"
  },
  "orig_nbformat": 4
 },
 "nbformat": 4,
 "nbformat_minor": 2
}
